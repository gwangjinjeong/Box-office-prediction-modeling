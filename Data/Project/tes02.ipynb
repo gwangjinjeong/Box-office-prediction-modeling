{
 "cells": [
  {
   "cell_type": "code",
   "execution_count": 1,
   "metadata": {},
   "outputs": [],
   "source": [
    "import urllib\n",
    "import re\n",
    "import pandas as pd\n",
    "import numpy as np\n",
    "import requests\n",
    "from bs4 import BeautifulSoup\n",
    "from time import sleep\n"
   ]
  },
  {
   "cell_type": "code",
   "execution_count": null,
   "metadata": {},
   "outputs": [],
   "source": [
    "stn=108\n",
    "year=2013\n",
    "url = \"http://www.weather.go.kr/weather/climate/past_table.jsp?stn=\"+str(stn)+\"&yy=\"+str(year)+\"&obs=21\"\n",
    "f = urllib.request.urlopen(url)\n",
    "f1 = f.read()\n",
    "soup2 = BeautifulSoup(f1,\"html.parser\")\n",
    "#print(soup2.prettify())\n",
    "df_weather = pd.DataFrame(index=range(1,32),\\\n",
    "                                 columns=['1월','2월','3월','4월','5월',\\\n",
    "                                         '6월','7월','8월','9월','10월',\\\n",
    "                                         '11월','12월'])"
   ]
  }
 ],
 "metadata": {
  "kernelspec": {
   "display_name": "Python 3",
   "language": "python",
   "name": "python3"
  },
  "language_info": {
   "codemirror_mode": {
    "name": "ipython",
    "version": 3
   },
   "file_extension": ".py",
   "mimetype": "text/x-python",
   "name": "python",
   "nbconvert_exporter": "python",
   "pygments_lexer": "ipython3",
   "version": "3.6.5"
  }
 },
 "nbformat": 4,
 "nbformat_minor": 2
}
