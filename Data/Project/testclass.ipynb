{
 "cells": [
  {
   "cell_type": "code",
   "execution_count": null,
   "metadata": {},
   "outputs": [],
   "source": [
    "import urllib\n",
    "import re\n",
    "import pandas as pd\n",
    "import numpy as np\n",
    "import requests\n",
    "from bs4 import BeautifulSoup\n",
    "from time import sleep\n",
    "import datetime\n",
    "\n",
    "class Getweather:\n",
    "    def setdata(self, first, second):\n",
    "        self.first = first\n",
    "        self.second = second\n",
    "        \n",
    "    def last_day_of_month(any_day):\n",
    "    next_month = any_day.replace(day=28) + datetime.timedelta(days=4)  # this will never fail\n",
    "    return next_month - datetime.timedelta(days=next_month.day)\n",
    "\n",
    "    def getrain(year):\n",
    "        rain_url = \"http://www.weather.go.kr/weather/climate/past_table.jsp?stn=108&yy=\"+str(year)+\"&obs=21\"\n",
    "        rain_opn = urllib.request.urlopen(rain_url)\n",
    "        rain_red = rain_opn.read()\n",
    "        soup2 = BeautifulSoup(rain_red,\"html.parser\")\n",
    "        df_weather= pd.DataFrame()\n",
    "        table = soup2.find('table', attrs={'class': 'table_develop'})\n",
    "        tbody = table.find('tbody')\n",
    "        trs = tbody.find_all('tr')\n",
    "\n",
    "        for i in range(31):\n",
    "            tds = trs[i].find_all('td')\n",
    "            for j in range(1,13):\n",
    "                if tds[j].text == '\\xa0':\n",
    "                    df_weather.set_value('{0}'.format(str(i+1).zfill(2)),'{0}'.format(str(j).zfill(2)),\"NaN\")\n",
    "                    continue\n",
    "                df_weather.set_value('{0}'.format(str(i+1).zfill(2)),'{0}'.format(str(j).zfill(2)),tds[j].text)\n",
    "        return df_weather\n",
    "\n",
    "    def gettemperature(year):\n",
    "        tem_url = \"http://www.weather.go.kr/weather/climate/past_table.jsp?stn=108&yy=\"+str(year)+\"&obs=07\"\n",
    "        tem_opn = urllib.request.urlopen(tem_url)\n",
    "        tem_red = tem_opn.read()\n",
    "        soup2 = BeautifulSoup(tem_red,\"html.parser\")\n",
    "        df_weather= pd.DataFrame()\n",
    "        table = soup2.find('table', attrs={'class': 'table_develop'})\n",
    "        tbody = table.find('tbody')\n",
    "        trs = tbody.find_all('tr')\n",
    "\n",
    "        for i in range(31):\n",
    "            tds = trs[i].find_all('td')\n",
    "            for j in range(1,13):\n",
    "                if tds[j].text == '\\xa0':\n",
    "                    df_weather.set_value('{0}'.format(str(i+1).zfill(2)),'{0}'.format(str(j).zfill(2)),\"NaN\")\n",
    "                    continue\n",
    "                df_weather.set_value('{0}'.format(str(i+1).zfill(2)),'{0}'.format(str(j).zfill(2)),tds[j].text)\n",
    "        return df_weather"
   ]
  }
 ],
 "metadata": {
  "kernelspec": {
   "display_name": "Python 3",
   "language": "python",
   "name": "python3"
  },
  "language_info": {
   "codemirror_mode": {
    "name": "ipython",
    "version": 3
   },
   "file_extension": ".py",
   "mimetype": "text/x-python",
   "name": "python",
   "nbconvert_exporter": "python",
   "pygments_lexer": "ipython3",
   "version": "3.6.5"
  }
 },
 "nbformat": 4,
 "nbformat_minor": 2
}
