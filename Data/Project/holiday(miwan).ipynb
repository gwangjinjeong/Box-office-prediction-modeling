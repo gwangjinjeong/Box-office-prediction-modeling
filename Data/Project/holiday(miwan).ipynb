{
 "cells": [
  {
   "cell_type": "code",
   "execution_count": 1,
   "metadata": {},
   "outputs": [],
   "source": [
    "import pandas as pd\n",
    "import re\n",
    "import requests\n",
    "from bs4 import BeautifulSoup\n",
    "from time import sleep\n",
    "import os\n",
    "import sys\n",
    "import urllib.request"
   ]
  },
  {
   "cell_type": "code",
   "execution_count": 7,
   "metadata": {},
   "outputs": [],
   "source": [
    "def chkHoliday(year,month,day):\n",
    "    holiday_url = \"https://api.manana.kr/calendar.xml?year=\"+str(year)+\"&month=\"+str(month).zfill(2)+\"&day=\"+str(day)+\"&category=all&nation=kr\"\n",
    "    request = urllib.request.Request(holiday_url)\n",
    "    request.add_header(token)\n",
    "    response = urllib.request.urlopen(request)\n",
    "    rescode = response.getcode()\n",
    "    \n",
    "    hd_opn = urllib.request.urlopen(holiday_url)\n",
    "    responceBody = this\n",
    "    hd_red = hd_opn.read()\n",
    "    soup3 = BeautifulSoup(hd_red,\"html.parser\")\n",
    "    soup3.prettify()\n"
   ]
  },
  {
   "cell_type": "code",
   "execution_count": 10,
   "metadata": {},
   "outputs": [
    {
     "name": "stdout",
     "output_type": "stream",
     "text": [
      "{'totalResult': 3, 'page': 0, 'count': 0, 'results': [{'year': '2015', 'month': '09', 'day': '26', 'type': 'h', 'name': '추석연휴'}, {'year': '2015', 'month': '09', 'day': '27', 'type': 'h', 'name': '추석'}, {'year': '2015', 'month': '09', 'day': '28', 'type': 'h', 'name': '추석연휴'}]}\n"
     ]
    }
   ],
   "source": [
    "import requests\n",
    "\n",
    "from datetime import datetime as dt\n",
    "from datetime import timedelta as td\n",
    "\n",
    "\n",
    "# 휴일 여부 리턴 : 휴일이면 false, 영업일이면 true\n",
    "\n",
    "def get_day():\n",
    "    header = { 'TDCProjectkey' : 'bab24dc3-1379-4890-8f6a-515d203ad590'}\n",
    "    url = \"https://apis.sktelecom.com/v1/eventday/days?type=h&year=2015&month=\"+str('09')\n",
    "    result = requests.get(url, headers=header).json()\n",
    "    print(result)\n",
    "\n",
    "get_day()\n",
    "\n"
   ]
  },
  {
   "cell_type": "code",
   "execution_count": 65,
   "metadata": {},
   "outputs": [
    {
     "data": {
      "text/plain": [
       "[]"
      ]
     },
     "execution_count": 65,
     "metadata": {},
     "output_type": "execute_result"
    }
   ],
   "source": [
    "hlist"
   ]
  },
  {
   "cell_type": "code",
   "execution_count": 39,
   "metadata": {},
   "outputs": [
    {
     "data": {
      "text/plain": [
       "<category>holiday</category>"
      ]
     },
     "execution_count": 39,
     "metadata": {},
     "output_type": "execute_result"
    }
   ],
   "source": [
    "soup2.find('category')"
   ]
  },
  {
   "cell_type": "code",
   "execution_count": 23,
   "metadata": {},
   "outputs": [],
   "source": [
    "list1=[]"
   ]
  },
  {
   "cell_type": "code",
   "execution_count": 24,
   "metadata": {},
   "outputs": [
    {
     "data": {
      "text/plain": [
       "bs4.BeautifulSoup"
      ]
     },
     "execution_count": 24,
     "metadata": {},
     "output_type": "execute_result"
    }
   ],
   "source": [
    "type(soup2)"
   ]
  },
  {
   "cell_type": "code",
   "execution_count": 29,
   "metadata": {},
   "outputs": [],
   "source": [
    "table = soup2.find('대체공휴일')\n",
    "table"
   ]
  },
  {
   "cell_type": "code",
   "execution_count": null,
   "metadata": {},
   "outputs": [],
   "source": []
  }
 ],
 "metadata": {
  "kernelspec": {
   "display_name": "Python 3",
   "language": "python",
   "name": "python3"
  },
  "language_info": {
   "codemirror_mode": {
    "name": "ipython",
    "version": 3
   },
   "file_extension": ".py",
   "mimetype": "text/x-python",
   "name": "python",
   "nbconvert_exporter": "python",
   "pygments_lexer": "ipython3",
   "version": "3.6.5"
  }
 },
 "nbformat": 4,
 "nbformat_minor": 2
}
