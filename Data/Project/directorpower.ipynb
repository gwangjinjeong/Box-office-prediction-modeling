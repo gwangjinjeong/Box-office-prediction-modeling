{
 "cells": [
  {
   "cell_type": "code",
   "execution_count": null,
   "metadata": {},
   "outputs": [],
   "source": [
    "import pandas as pd\n",
    "import numpy as np"
   ]
  },
  {
   "cell_type": "code",
   "execution_count": null,
   "metadata": {},
   "outputs": [],
   "source": [
    "df_director=pd.read_csv('director.csv',index_col=0)\n",
    "df_semi=pd.read_csv('movie_with_rat_act.csv',index_col=0)"
   ]
  },
  {
   "cell_type": "code",
   "execution_count": null,
   "metadata": {},
   "outputs": [],
   "source": [
    "df_semi2=df_semi.drop('Unnamed: 0.1',axis=1)"
   ]
  },
  {
   "cell_type": "code",
   "execution_count": null,
   "metadata": {},
   "outputs": [],
   "source": [
    "df_director=df_director.dropna()"
   ]
  },
  {
   "cell_type": "code",
   "execution_count": null,
   "metadata": {},
   "outputs": [],
   "source": [
    "df_director.index =list(range(len(df_director)))"
   ]
  },
  {
   "cell_type": "code",
   "execution_count": null,
   "metadata": {},
   "outputs": [],
   "source": [
    "df_director['guest']= \"Na\"\n",
    "df_director['movie_num'] =\"Na\"\n",
    "for act_idx in range(len(df_director['filmoNames'])):\n",
    "    sum=0\n",
    "    cnt=0\n",
    "    search=df_director['filmoNames'][act_idx].split('|') # 여기에는 | 으로\n",
    "    print(\"----------------------wordsearch---------------------------\")\n",
    "    print(str(df_director['peopleNm'][act_idx])+\"\\t\\tsearch data \\t\"+str(search))\n",
    "    for word in search:\n",
    "        if len(df_semi2[df_semi2['mname'] == word]) != 0:\n",
    "            print(\"--------------------namesearching-----------------------------\")\n",
    "            semilist = df_semi2[df_semi2['mname'] == word]['director'].values[0].split(',')\n",
    "            print(\"--------------------namesearching-----------------------------\")\n",
    "            print(\"namelist\\t\" +str(semilist))\n",
    "        else:\n",
    "            continue\n",
    "        act_name = df_director['peopleNm'][act_idx]\n",
    "        if act_name in semilist:\n",
    "            guest_idx=df_semi2[df_semi2['mname'] == word].index.tolist()[0]\n",
    "            cnt = cnt+1\n",
    "            sum = sum+df_semi2['guest'][guest_idx]\n",
    "        df_director.set_value(act_idx,'guest',sum)\n",
    "        df_director.set_value(act_idx,'movie_num',cnt)\n"
   ]
  },
  {
   "cell_type": "code",
   "execution_count": null,
   "metadata": {},
   "outputs": [],
   "source": [
    "df_director.to_excel('director_extension.xlsx',sheet_name='Sheet1')"
   ]
  },
  {
   "cell_type": "code",
   "execution_count": null,
   "metadata": {},
   "outputs": [],
   "source": [
    "    if len(df_dmodel[df_dmodel['peopleNm']==dname]['Tot_median']) != 1:\n",
    "        continue\n",
    "    else:\n",
    "        list(df_dmodel[df_dmodel['peopleNm']=='김한민']['Tot_median'].values)\n",
    "    "
   ]
  }
 ],
 "metadata": {
  "kernelspec": {
   "display_name": "Python 3",
   "language": "python",
   "name": "python3"
  },
  "language_info": {
   "codemirror_mode": {
    "name": "ipython",
    "version": 3
   },
   "file_extension": ".py",
   "mimetype": "text/x-python",
   "name": "python",
   "nbconvert_exporter": "python",
   "pygments_lexer": "ipython3",
   "version": "3.6.5"
  }
 },
 "nbformat": 4,
 "nbformat_minor": 2
}
