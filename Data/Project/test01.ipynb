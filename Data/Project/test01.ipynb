{
 "cells": [
  {
   "cell_type": "code",
   "execution_count": 59,
   "metadata": {},
   "outputs": [],
   "source": [
    "import urllib\n",
    "import re\n",
    "import pandas as pd\n",
    "import numpy as np\n",
    "import requests\n",
    "from bs4 import BeautifulSoup\n",
    "from time import sleep\n"
   ]
  },
  {
   "cell_type": "code",
   "execution_count": 21,
   "metadata": {},
   "outputs": [],
   "source": [
    "def getWeather(year,stn=108):\n",
    "    # 기상청 조회 url 설정 (python3.5)\n",
    "    url = \"http://www.weather.go.kr/weather/climate/past_table.jsp?stn=\"+stn+\"&yy=\"+year+\"&obs=21\"\n",
    "    # 읽기 버퍼 설정\n",
    "    lines = []\n",
    "    ㅁ\n",
    "    # 자료 읽기\n",
    "    f = urllib.request.urlopen(url)\n",
    "    r = f.read()\n",
    "    f.close()\n",
    "    \n",
    "    # 한글로 디코딩함\n",
    "    r2 = r.decode('euc-kr', 'ignore')\n",
    "\n",
    "    # 엔터키 값으로 라인을 구분함\n",
    "    lines = r2.split('\\n')\n",
    "\n",
    "    # <td class=\"align_left\">평균기온:2.2℃<br />최고기온:3.7℃<br />최저기온:-0.3℃<br />평균운량:9.6<br />일강수량:0.0mm<br /></td>\n",
    "    regex = '.*<td class=\"align_left\">평균기온:(.*?)<br \\/>최고기온:(.*?)<br \\/>최저기온:(.*?)<br \\/>평균운량:(.*?)<br \\/>일강수량:(.*?)<br \\/><\\/td>'\n",
    "\n",
    "    dict_month = {}   # {1 => {평균기온: xx, 최고기온: yy, 최저기온: zz, 평균운량: kk, 일강수량: ll}, 2 => ...}\n",
    "    day = 1\n",
    "    for l in lines:\n",
    "        if not '평균기온' in l: continue\n",
    "\n",
    "        # 불필요한 문자는 제거함\n",
    "        l = l.replace(\"℃\", \"\")\n",
    "\n",
    "        # 정규식 검사를 한다.\n",
    "        l_reg = re.match(regex, l)\n",
    "        if not l_reg: continue\n",
    "\n",
    "        # 일자별 딕셔너리 객체 초기화\n",
    "        dict_day = {'avg':0, 'high':0, 'low':0, 'cloud':0, 'rain':0}\n",
    "        #[print(a) for a in l_reg.groups()]\n",
    "\n",
    "        data_avg = l_reg.groups()[0]     # 평균기온\n",
    "        data_high = l_reg.groups()[1]    # 최고기온\n",
    "        data_low = l_reg.groups()[2]     # 최저기온\n",
    "        data_cloud = l_reg.groups()[3]   # 평균운량\n",
    "        data_rain = l_reg.groups()[4]    # 일강수량\n",
    "\n",
    "        dict_day['avg'] = data_avg     # 평균기온\n",
    "        dict_day['high'] = data_high    # 최고기온\n",
    "        dict_day['low'] = data_low     # 최저기온\n",
    "        dict_day['cloud'] = data_cloud   # 평균운량\n",
    "        dict_day['rain'] = data_rain.replace(\"-\", \"0\").replace(\"mm\", \"\")    # 일강수량\n",
    "\n",
    "        dict_month[day] = dict_day\n",
    "        day = day + 1\n",
    "\n",
    "    return (dict_month)\n",
    "\n",
    "\n",
    "# 조회년도, 월, 지역코드 설정\n",
    "year = \"2013\"\n",
    "mm = \"2\"\n",
    "stn = \"108\"\n",
    "\n",
    "# 2013년도 1월달 기온 정보를 조회한다.\n",
    "dict_month = getWeather(year, stn)\n",
    "\n",
    "# 기온정보 출력: 일자, 평균기온, 최고기온, 최저기온, 평균운량, 일강수량\n"
   ]
  },
  {
   "cell_type": "code",
   "execution_count": 22,
   "metadata": {},
   "outputs": [
    {
     "data": {
      "text/plain": [
       "{}"
      ]
     },
     "execution_count": 22,
     "metadata": {},
     "output_type": "execute_result"
    }
   ],
   "source": [
    "dict_month"
   ]
  },
  {
   "cell_type": "code",
   "execution_count": 12,
   "metadata": {},
   "outputs": [
    {
     "name": "stdout",
     "output_type": "stream",
     "text": [
      "hi\n"
     ]
    }
   ],
   "source": [
    "print(\"hi\")\n",
    "for day, dict_day in dict_month.items():\n",
    "    print(\"{0}{1}{2}, {3}, {3}, {4}, {5}, {6} \".format(year, mm.zfill(2), str(day).zfill(2), dict_day['avg'], dict_day['high'] , dict_day['low'], dict_day['cloud'], dict_day['rain']))"
   ]
  },
  {
   "cell_type": "code",
   "execution_count": 146,
   "metadata": {},
   "outputs": [],
   "source": [
    "stn=108\n",
    "year=2012\n",
    "url = \"http://www.weather.go.kr/weather/climate/past_table.jsp?stn=\"+str(stn)+\"&yy=\"+str(year)+\"&obs=21\"\n",
    "f = urllib.request.urlopen(url)\n",
    "f1 = f.read()\n",
    "soup2 = BeautifulSoup(f1,\"html.parser\")\n",
    "#print(soup2.prettify())\n",
    "df_weather = pd.DataFrame(index=range(1,32),\\\n",
    "                                 columns=['1월','2월','3월','4월','5월',\\\n",
    "                                         '6월','7월','8월','9월','10월',\\\n",
    "                                         '11월','12월'])"
   ]
  },
  {
   "cell_type": "code",
   "execution_count": null,
   "metadata": {},
   "outputs": [],
   "source": []
  },
  {
   "cell_type": "code",
   "execution_count": 140,
   "metadata": {},
   "outputs": [
    {
     "ename": "SyntaxError",
     "evalue": "invalid token (<ipython-input-140-5cb988a17d2f>, line 2)",
     "output_type": "error",
     "traceback": [
      "\u001b[1;36m  File \u001b[1;32m\"<ipython-input-140-5cb988a17d2f>\"\u001b[1;36m, line \u001b[1;32m2\u001b[0m\n\u001b[1;33m    srt = datetime(2013-05-01)\u001b[0m\n\u001b[1;37m                         ^\u001b[0m\n\u001b[1;31mSyntaxError\u001b[0m\u001b[1;31m:\u001b[0m invalid token\n"
     ]
    }
   ],
   "source": [
    "sys.displayhook = pprint.pprint  # 표시를 보기 쉽게 만들고자 설정한다.\n",
    "srt = datetime(2013-05-01)\n",
    "srt + relativedelta(day=31)"
   ]
  },
  {
   "cell_type": "code",
   "execution_count": 147,
   "metadata": {},
   "outputs": [],
   "source": [
    "\n",
    "table = soup2.find('table', attrs={'class': 'table_develop'})\n",
    "tbody = table.find('tbody')\n",
    "trs = tbody.find_all('tr')\n"
   ]
  },
  {
   "cell_type": "code",
   "execution_count": 148,
   "metadata": {},
   "outputs": [
    {
     "name": "stderr",
     "output_type": "stream",
     "text": [
      "C:\\Users\\Jin1ib\\Anaconda3\\lib\\site-packages\\ipykernel_launcher.py:4: FutureWarning: set_value is deprecated and will be removed in a future release. Please use .at[] or .iat[] accessors instead\n",
      "  after removing the cwd from sys.path.\n"
     ]
    }
   ],
   "source": [
    "for i in range(31):\n",
    "    tds = trs[i].find_all('td')\n",
    "    for j in range(1,13):\n",
    "        df_weather.set_value('{0}'.format(i+1),'{0}월'.format(j),tds[j].text)"
   ]
  },
  {
   "cell_type": "code",
   "execution_count": 150,
   "metadata": {},
   "outputs": [],
   "source": [
    "df_weather= pd.DataFrame()"
   ]
  },
  {
   "cell_type": "code",
   "execution_count": 151,
   "metadata": {},
   "outputs": [
    {
     "data": {
      "text/html": [
       "<div>\n",
       "<style scoped>\n",
       "    .dataframe tbody tr th:only-of-type {\n",
       "        vertical-align: middle;\n",
       "    }\n",
       "\n",
       "    .dataframe tbody tr th {\n",
       "        vertical-align: top;\n",
       "    }\n",
       "\n",
       "    .dataframe thead th {\n",
       "        text-align: right;\n",
       "    }\n",
       "</style>\n",
       "<table border=\"1\" class=\"dataframe\">\n",
       "  <thead>\n",
       "    <tr style=\"text-align: right;\">\n",
       "      <th></th>\n",
       "    </tr>\n",
       "  </thead>\n",
       "  <tbody>\n",
       "  </tbody>\n",
       "</table>\n",
       "</div>"
      ],
      "text/plain": [
       "Empty DataFrame\n",
       "Columns: []\n",
       "Index: []"
      ]
     },
     "execution_count": 151,
     "metadata": {},
     "output_type": "execute_result"
    }
   ],
   "source": [
    "df_weather"
   ]
  },
  {
   "cell_type": "code",
   "execution_count": 139,
   "metadata": {},
   "outputs": [
    {
     "data": {
      "text/plain": [
       "'3.1'"
      ]
     },
     "execution_count": 139,
     "metadata": {},
     "output_type": "execute_result"
    }
   ],
   "source": [
    "df_weather['1월'][0]"
   ]
  },
  {
   "cell_type": "code",
   "execution_count": null,
   "metadata": {},
   "outputs": [],
   "source": []
  }
 ],
 "metadata": {
  "kernelspec": {
   "display_name": "Python 3",
   "language": "python",
   "name": "python3"
  },
  "language_info": {
   "codemirror_mode": {
    "name": "ipython",
    "version": 3
   },
   "file_extension": ".py",
   "mimetype": "text/x-python",
   "name": "python",
   "nbconvert_exporter": "python",
   "pygments_lexer": "ipython3",
   "version": "3.6.5"
  }
 },
 "nbformat": 4,
 "nbformat_minor": 2
}
